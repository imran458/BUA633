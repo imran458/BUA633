{
  "cells": [
    {
      "cell_type": "markdown",
      "metadata": {
        "id": "view-in-github",
        "colab_type": "text"
      },
      "source": [
        "<a href=\"https://colab.research.google.com/github/imran458/BUA633/blob/main/MarkovModelProject/%20Copy_of_MarkovModels_MiniProject_ToStudents_1.ipynb\" target=\"_parent\"><img src=\"https://colab.research.google.com/assets/colab-badge.svg\" alt=\"Open In Colab\"/></a>"
      ]
    },
    {
      "cell_type": "markdown",
      "metadata": {
        "id": "V6MO8sP2R6EQ"
      },
      "source": [
        "# Simulation of Nitflex Business Model\n",
        "\n",
        "Nitflex is a streaming company providing paid content on a subscription-based plan.\n",
        "The company model generates revenues exclusively through user’s subscription which comprises the following plans:\n",
        "•\tFree Trial (14 days): users subscribe to try the Nitflex services free of charge for a week. The user must provide a credit card during the sign-up process. The user can cancel the free trial at any time during the 14 days; after that, the user is automatically moved to the Basic plan and charged for the first month.\n",
        "•\tBasic Plan: users in the Basic Plan have access to the entire media collection; however, they have a limit of 40 movies a month.\n",
        "•\tUnlimited Plan: users in the Unlimited Plan have access to the entire media collection with no limit.\n"
      ]
    },
    {
      "cell_type": "markdown",
      "metadata": {
        "id": "_dPmX3zTR6ET"
      },
      "source": [
        "## Define the MM with the transition probabilities (20 Points)\n",
        "For this, you will need to define: (1) the States and (2) the Transition Probability Matrix"
      ]
    },
    {
      "cell_type": "code",
      "execution_count": 15,
      "metadata": {
        "id": "Sk9Xdd4RR6EU",
        "outputId": "a1184862-b06e-4063-d059-ff48998eddb4",
        "colab": {
          "base_uri": "https://localhost:8080/",
          "height": 107
        }
      },
      "outputs": [
        {
          "output_type": "execute_result",
          "data": {
            "text/plain": [
              "'\\nResults:\\n\\n  Free Trial:\\n    35% of Trial users remained at Trial\\n    30% of Trail users upgraded to Basic\\n    15% of Trail users upgraded to Unlimited\\n    20% of Trial users cancelled\\n\\n  Basic Trial\\n    85% of Basic users remained at Basic\\n    15% of Basic users cancelled\\n\\n  Unlimited Plan:\\n    10% of Unlimited users downgraded to Basic\\n    80% of Unlimited users remined at Unlimited\\n    10% of Unlimited users cancelled\\n\\n  Cancelled:\\n    25% users cancelled Trail\\n    30% users cancelled Basic\\n    35% users cancelled Unlimited\\n    10% users remained at cancelled\\n\\n'"
            ],
            "application/vnd.google.colaboratory.intrinsic+json": {
              "type": "string"
            }
          },
          "metadata": {},
          "execution_count": 15
        }
      ],
      "source": [
        "'''\n",
        "  For the missing probabilities:\n",
        "     Users remained in their current subscription if they did not make any changes.\n",
        "  ex) If 10% upgrade/downgraded, that means 90% remained in their current subscription\n",
        "\n",
        "'''\n",
        "\n",
        "import numpy as np\n",
        "import random as rm\n",
        "\n",
        "# Defining the States\n",
        "states = ['Free Trial', 'Basic Plan', 'Unlimited Plan', 'Canceled']\n",
        "\n",
        "# Defining the transitions\n",
        "transitionName = [['TTrial', 'TBasic', 'TUnlimited', 'TCanceled'],\n",
        "                  ['TBasic', 'TTrail', 'TUnlimited', 'TCanceled'],\n",
        "                  ['TUnlimited', 'TTrial', 'TBasic', 'TCanceled'],\n",
        "                  ['TCanceled', 'TTrial', 'TBasic', 'TUnlimited']]\n",
        "              \n",
        "\n",
        "# Probability or Transition Matrix\n",
        "tMatrix = [[0.35, 0.30, 0.15, 0.20],\n",
        "           [0.00, 0.55, 0.30, 0.15],\n",
        "           [0.00, 0.10, 0.80, 0.10],\n",
        "           [0.25, 0.30, 0.35, 0.10]]\n",
        "\n",
        "'''\n",
        "Results:\n",
        "\n",
        "  Free Trial:\n",
        "    35% of Trial users remained at Trial\n",
        "    30% of Trail users upgraded to Basic\n",
        "    15% of Trail users upgraded to Unlimited\n",
        "    20% of Trial users cancelled\n",
        "\n",
        "  Basic Trial\n",
        "    85% of Basic users remained at Basic\n",
        "    15% of Basic users cancelled\n",
        "\n",
        "  Unlimited Plan:\n",
        "    10% of Unlimited users downgraded to Basic\n",
        "    80% of Unlimited users remined at Unlimited\n",
        "    10% of Unlimited users cancelled\n",
        "\n",
        "  Cancelled:\n",
        "    25% users cancelled Trail\n",
        "    30% users cancelled Basic\n",
        "    35% users cancelled Unlimited\n",
        "    10% users remained at cancelled\n",
        "\n",
        "'''\n"
      ]
    },
    {
      "cell_type": "markdown",
      "metadata": {
        "id": "2Y4k_ug2R6EV"
      },
      "source": [
        "## Is this an Ergodic system? (10 Points)\n",
        "Write your answer in the next cell."
      ]
    },
    {
      "cell_type": "markdown",
      "metadata": {
        "id": "eaLSn8OtR6EV"
      },
      "source": [
        "# Yes because the array rows will need to add up to one for the tmatrix to be functionable. For instance, the end result will still equate to 1 considering all the possible subscription upgrade/ downgrades between free trail, basic plan, unlimited plan, or cancelled"
      ]
    },
    {
      "cell_type": "markdown",
      "metadata": {
        "id": "m5sSlgojR6EW"
      },
      "source": [
        "## Is there any Absorbing state in this system? (10 Points)\n",
        "Write your answer in the next cell below. Write the name of the Absorbing state (if any) or simply \"No absorbing state\" if none of the state is an Absorbing State.\n"
      ]
    },
    {
      "cell_type": "markdown",
      "metadata": {
        "id": "AwEY1sRFR6EW"
      },
      "source": [
        "#Cancelled state will be an absorbing state since users will potentially remain cancelled forever"
      ]
    },
    {
      "cell_type": "markdown",
      "metadata": {
        "id": "G7VDcwDvR6EW"
      },
      "source": [
        "The following functions will check the matrix: make sure your transition Matrix passes the test; otherwise, there is something wrong with you probabilities."
      ]
    },
    {
      "cell_type": "code",
      "execution_count": 16,
      "metadata": {
        "id": "PUpopKmiR6EX"
      },
      "outputs": [],
      "source": [
        "def mult_matrices(m1, m2):\n",
        "    res = [[0 for x in range(len(m1))] for y in range(len(m2))]  \n",
        "    for i in range(len(m1)): \n",
        "        for j in range(len(m2[0])): \n",
        "            for k in range(len(m2)): \n",
        "                res[i][j] = round(res[i][j] + m1[i][k] * m2[k][j], 3)\n",
        "    return res\n",
        "\n",
        "def checkMatrix(M):\n",
        "    # The raw probabilities should sum to 1\n",
        "    n = len(M)\n",
        "    psum = 0\n",
        "    result = False\n",
        "    \n",
        "    for i in range(0,n):\n",
        "        psum += sum(M[i])\n",
        "\n",
        "    if psum == n:\n",
        "        result = True\n",
        "    return result"
      ]
    },
    {
      "cell_type": "code",
      "execution_count": 17,
      "metadata": {
        "id": "B6O5z9rDR6EY",
        "colab": {
          "base_uri": "https://localhost:8080/"
        },
        "outputId": "7c4c40b4-9f45-43c3-e4e4-44bcaef5e1c2"
      },
      "outputs": [
        {
          "output_type": "stream",
          "name": "stdout",
          "text": [
            "Probability Test ... passed.\n"
          ]
        }
      ],
      "source": [
        "# Checking the probabilities look ok: out probabilities should be equal to 1\n",
        "if checkMatrix(tMatrix):\n",
        "    print(\"Probability Test ... passed.\")\n",
        "else:\n",
        "    print(\"The transition matrix has some problem\")"
      ]
    },
    {
      "cell_type": "markdown",
      "metadata": {
        "id": "Tw9QeTN9R6EY"
      },
      "source": [
        "**IF THE TEST FAIL, FIX YOUR TRANSITION MATRIX**"
      ]
    },
    {
      "cell_type": "code",
      "execution_count": 18,
      "metadata": {
        "id": "J4Zz6k6ZR6EY"
      },
      "outputs": [],
      "source": [
        "def simulate(periods, starting_state, states, transitionName, tMatrix):\n",
        "    current_state = starting_state\n",
        "    transition_index = 0\n",
        "    projectedMatrix = tMatrix\n",
        "    \n",
        "    transitionList = [states[current_state]]\n",
        "    period_counter = 1\n",
        "    # Probability of transitionList\n",
        "    prob = 1\n",
        "    \n",
        "    while period_counter != periods:\n",
        "        \n",
        "        next_transition = np.random.choice(transitionName[transition_index],replace=True,p=tMatrix[transition_index])\n",
        "        next_state_index = transitionName[transition_index].index(next_transition)\n",
        "        \n",
        "        if tMatrix[transition_index][next_state_index]>0.0:\n",
        "            prob = prob * tMatrix[transition_index][next_state_index]\n",
        "        \n",
        "        transition_index = next_state_index\n",
        "        transitionList.append(states[transition_index])\n",
        "        \n",
        "        projectedMatrix = mult_matrices(projectedMatrix,projectedMatrix)\n",
        "        \n",
        "        period_counter += 1\n",
        "    return transitionList, states[transition_index], prob, projectedMatrix   "
      ]
    },
    {
      "cell_type": "markdown",
      "metadata": {
        "id": "mG2RbgohR6EZ"
      },
      "source": [
        "## What would be the distribution of probabilities for each Subscription level 10 years from now? (30 Points)\n",
        "Simulate the business for 10 periods (each period is 1 year) and look at the simulated transition matrix after 10 years.  \n",
        "  Comment on that."
      ]
    },
    {
      "cell_type": "code",
      "execution_count": 24,
      "metadata": {
        "id": "7soMLQUPR6EZ",
        "outputId": "816af1d5-c7d2-49ea-ab06-69f6916e1840",
        "colab": {
          "base_uri": "https://localhost:8080/"
        }
      },
      "outputs": [
        {
          "output_type": "stream",
          "name": "stdout",
          "text": [
            "Possible states: ['Free Trial', 'Basic Plan', 'Basic Plan', 'Unlimited Plan', 'Unlimited Plan', 'Basic Plan', 'Unlimited Plan', 'Unlimited Plan', 'Unlimited Plan', 'Unlimited Plan']\n",
            "End state after 10 periods: Unlimited Plan\n",
            "Probability of the possible sequence of states: 0.0006082560000000002\n",
            "\n",
            "[0.044, 0.241, 0.598, 0.117]\n",
            "[0.044, 0.241, 0.598, 0.117]\n",
            "[0.044, 0.241, 0.598, 0.117]\n",
            "[0.044, 0.241, 0.598, 0.117]\n"
          ]
        }
      ],
      "source": [
        "periods = 10\n",
        "starting_state = 0\n",
        "transition_list, final_state, probability, projected_matrix = simulate(periods, starting_state, states, transitionName, tMatrix) \n",
        "\n",
        "print(\"Possible states: \" + str(transition_list))\n",
        "print(\"End state after \"+ str(periods) + \" periods: \" + final_state)\n",
        "print(\"Probability of the possible sequence of states: \" + str(probability))\n",
        "print()\n",
        "#Printing projected matrix\n",
        "for i in range(len(projected_matrix)):\n",
        "    print(projected_matrix[i])"
      ]
    },
    {
      "cell_type": "markdown",
      "metadata": {
        "id": "aBwU1kAnR6Ea"
      },
      "source": [
        "Write your comments in the next cell."
      ]
    },
    {
      "cell_type": "code",
      "source": [
        "0.044 + 0.241 + 0.598 + 0.117"
      ],
      "metadata": {
        "id": "JMY165TdQfma",
        "outputId": "11f6ce3f-3982-4dbb-9600-d5ce881eb530",
        "colab": {
          "base_uri": "https://localhost:8080/"
        }
      },
      "execution_count": 26,
      "outputs": [
        {
          "output_type": "execute_result",
          "data": {
            "text/plain": [
              "1.0"
            ]
          },
          "metadata": {},
          "execution_count": 26
        }
      ]
    },
    {
      "cell_type": "markdown",
      "metadata": {
        "id": "Qb_qmdqeR6Ea"
      },
      "source": [
        "## What Modification would you introduce for Nitflex to be more Successful? (30 Points)\n",
        "Based on your observations, introduce a change in the business model that would improve the outcome described in the previous point. If you feel there is no need of improvements, simply state: \"No improvement necessary.\"  \n",
        "  Please, specify your improvements in the form of a new transition matrix.  \n",
        "  \n",
        "  Specify your new transition matrix in the next cell."
      ]
    },
    {
      "cell_type": "markdown",
      "source": [
        "## Based on our outputted matrix, no improvement necessary because we are ending in the unlimited state after the simulation. If we make an assumption, which is that the unlimited state is our most \"profitable\" subscription plan, then we can safely assume that our current model, at its present state, will be the most profitable in the long run because it will ensure that the user of nitflex will end up subscribing to our most profitable plan"
      ],
      "metadata": {
        "id": "vkaWGadvPG2_"
      }
    },
    {
      "cell_type": "code",
      "execution_count": null,
      "metadata": {
        "id": "bICNGeNnR6Eb"
      },
      "outputs": [],
      "source": []
    },
    {
      "cell_type": "markdown",
      "metadata": {
        "id": "oAZ2ktF-R6Eb"
      },
      "source": [
        "Run the simulation again (on the same 10 periods) and generate the new simulated transition probabilities.  \n",
        "  Execute the simulation in the next cell and print the results."
      ]
    },
    {
      "cell_type": "code",
      "execution_count": 25,
      "metadata": {
        "id": "Y9_s4tgxR6Eb",
        "outputId": "715ef344-4c6e-420b-f658-40cda26a230e",
        "colab": {
          "base_uri": "https://localhost:8080/"
        }
      },
      "outputs": [
        {
          "output_type": "stream",
          "name": "stdout",
          "text": [
            "Possible states: ['Free Trial', 'Unlimited Plan', 'Unlimited Plan', 'Canceled', 'Unlimited Plan', 'Unlimited Plan', 'Unlimited Plan', 'Unlimited Plan', 'Canceled', 'Unlimited Plan']\n",
            "End state after 10 periods: Unlimited Plan\n",
            "Probability of the possible sequence of states: 7.5264e-05\n",
            "\n",
            "[0.044, 0.241, 0.598, 0.117]\n",
            "[0.044, 0.241, 0.598, 0.117]\n",
            "[0.044, 0.241, 0.598, 0.117]\n",
            "[0.044, 0.241, 0.598, 0.117]\n"
          ]
        }
      ],
      "source": [
        "periods = 10\n",
        "starting_state = 0\n",
        "transition_list, final_state, probability, projected_matrix = simulate(periods, starting_state, states, transitionName, tMatrix) \n",
        "\n",
        "print(\"Possible states: \" + str(transition_list))\n",
        "print(\"End state after \"+ str(periods) + \" periods: \" + final_state)\n",
        "print(\"Probability of the possible sequence of states: \" + str(probability))\n",
        "print()\n",
        "#Printing projected matrix\n",
        "for i in range(len(projected_matrix)):\n",
        "    print(projected_matrix[i])"
      ]
    },
    {
      "cell_type": "markdown",
      "metadata": {
        "id": "xkN6014mR6Ec"
      },
      "source": [
        "Comment your results"
      ]
    },
    {
      "cell_type": "markdown",
      "metadata": {
        "id": "Xi6bUZjaR6Ec"
      },
      "source": [
        "Not much further commentary necessary as the end state will still be unlimited."
      ]
    }
  ],
  "metadata": {
    "kernelspec": {
      "display_name": "Python 3",
      "language": "python",
      "name": "python3"
    },
    "language_info": {
      "codemirror_mode": {
        "name": "ipython",
        "version": 3
      },
      "file_extension": ".py",
      "mimetype": "text/x-python",
      "name": "python",
      "nbconvert_exporter": "python",
      "pygments_lexer": "ipython3",
      "version": "3.7.9"
    },
    "colab": {
      "provenance": [],
      "include_colab_link": true
    }
  },
  "nbformat": 4,
  "nbformat_minor": 0
}